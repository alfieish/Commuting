{
 "cells": [
  {
   "cell_type": "code",
   "execution_count": 1,
   "metadata": {},
   "outputs": [],
   "source": [
    "import pandas as pd\n",
    "import matplotlib.pyplot as plt\n",
    "from datetime import datetime\n",
    "import numpy as np\n",
    "\n",
    "%matplotlib inline\n",
    "plt.rcParams['figure.figsize'] = [12, 12]"
   ]
  },
  {
   "cell_type": "code",
   "execution_count": 2,
   "metadata": {},
   "outputs": [],
   "source": [
    "path =r'Home to Work - Sheet1.csv'\n",
    "testDF = pd.read_csv(path)"
   ]
  },
  {
   "cell_type": "code",
   "execution_count": 3,
   "metadata": {},
   "outputs": [
    {
     "data": {
      "text/html": [
       "<div>\n",
       "<style scoped>\n",
       "    .dataframe tbody tr th:only-of-type {\n",
       "        vertical-align: middle;\n",
       "    }\n",
       "\n",
       "    .dataframe tbody tr th {\n",
       "        vertical-align: top;\n",
       "    }\n",
       "\n",
       "    .dataframe thead th {\n",
       "        text-align: right;\n",
       "    }\n",
       "</style>\n",
       "<table border=\"1\" class=\"dataframe\">\n",
       "  <thead>\n",
       "    <tr style=\"text-align: right;\">\n",
       "      <th></th>\n",
       "      <th>Left Home</th>\n",
       "      <th>December 11, 2018 at 08:39AM</th>\n",
       "      <th>Unnamed: 2</th>\n",
       "      <th>https://maps.google.com/?q=53.369536272938745,-6.235619199999973&amp;z=17</th>\n",
       "    </tr>\n",
       "  </thead>\n",
       "  <tbody>\n",
       "    <tr>\n",
       "      <th>0</th>\n",
       "      <td>Arrived At Work</td>\n",
       "      <td>December 11, 2018 at 09:34AM</td>\n",
       "      <td>NaN</td>\n",
       "      <td>https://maps.google.com/?q=53.334460546961814,...</td>\n",
       "    </tr>\n",
       "    <tr>\n",
       "      <th>1</th>\n",
       "      <td>Left Work</td>\n",
       "      <td>December 11, 2018 at 01:18PM</td>\n",
       "      <td>NaN</td>\n",
       "      <td>https://maps.google.com/?q=53.334068956729624,...</td>\n",
       "    </tr>\n",
       "    <tr>\n",
       "      <th>2</th>\n",
       "      <td>Arrived At Work</td>\n",
       "      <td>December 11, 2018 at 01:53PM</td>\n",
       "      <td>NaN</td>\n",
       "      <td>https://maps.google.com/?q=53.334460546961814,...</td>\n",
       "    </tr>\n",
       "    <tr>\n",
       "      <th>3</th>\n",
       "      <td>Left Work</td>\n",
       "      <td>December 11, 2018 at 06:33PM</td>\n",
       "      <td>NaN</td>\n",
       "      <td>https://maps.google.com/?q=53.33402489271903,-...</td>\n",
       "    </tr>\n",
       "    <tr>\n",
       "      <th>4</th>\n",
       "      <td>Arrived Home</td>\n",
       "      <td>December 11, 2018 at 07:10PM</td>\n",
       "      <td>NaN</td>\n",
       "      <td>https://maps.google.com/?q=53.36944512097854,-...</td>\n",
       "    </tr>\n",
       "  </tbody>\n",
       "</table>\n",
       "</div>"
      ],
      "text/plain": [
       "         Left Home  December 11, 2018 at 08:39AM  Unnamed: 2  \\\n",
       "0  Arrived At Work  December 11, 2018 at 09:34AM         NaN   \n",
       "1        Left Work  December 11, 2018 at 01:18PM         NaN   \n",
       "2  Arrived At Work  December 11, 2018 at 01:53PM         NaN   \n",
       "3        Left Work  December 11, 2018 at 06:33PM         NaN   \n",
       "4     Arrived Home  December 11, 2018 at 07:10PM         NaN   \n",
       "\n",
       "  https://maps.google.com/?q=53.369536272938745,-6.235619199999973&z=17  \n",
       "0  https://maps.google.com/?q=53.334460546961814,...                     \n",
       "1  https://maps.google.com/?q=53.334068956729624,...                     \n",
       "2  https://maps.google.com/?q=53.334460546961814,...                     \n",
       "3  https://maps.google.com/?q=53.33402489271903,-...                     \n",
       "4  https://maps.google.com/?q=53.36944512097854,-...                     "
      ]
     },
     "execution_count": 3,
     "metadata": {},
     "output_type": "execute_result"
    }
   ],
   "source": [
    "testDF.head(5)"
   ]
  },
  {
   "cell_type": "code",
   "execution_count": 4,
   "metadata": {},
   "outputs": [
    {
     "data": {
      "text/html": [
       "<div>\n",
       "<style scoped>\n",
       "    .dataframe tbody tr th:only-of-type {\n",
       "        vertical-align: middle;\n",
       "    }\n",
       "\n",
       "    .dataframe tbody tr th {\n",
       "        vertical-align: top;\n",
       "    }\n",
       "\n",
       "    .dataframe thead th {\n",
       "        text-align: right;\n",
       "    }\n",
       "</style>\n",
       "<table border=\"1\" class=\"dataframe\">\n",
       "  <thead>\n",
       "    <tr style=\"text-align: right;\">\n",
       "      <th></th>\n",
       "      <th>Location</th>\n",
       "      <th>Time</th>\n",
       "    </tr>\n",
       "  </thead>\n",
       "  <tbody>\n",
       "    <tr>\n",
       "      <th>0</th>\n",
       "      <td>Arrived At Work</td>\n",
       "      <td>December 11, 2018 at 09:34AM</td>\n",
       "    </tr>\n",
       "    <tr>\n",
       "      <th>1</th>\n",
       "      <td>Left Work</td>\n",
       "      <td>December 11, 2018 at 01:18PM</td>\n",
       "    </tr>\n",
       "    <tr>\n",
       "      <th>2</th>\n",
       "      <td>Arrived At Work</td>\n",
       "      <td>December 11, 2018 at 01:53PM</td>\n",
       "    </tr>\n",
       "    <tr>\n",
       "      <th>3</th>\n",
       "      <td>Left Work</td>\n",
       "      <td>December 11, 2018 at 06:33PM</td>\n",
       "    </tr>\n",
       "    <tr>\n",
       "      <th>4</th>\n",
       "      <td>Arrived Home</td>\n",
       "      <td>December 11, 2018 at 07:10PM</td>\n",
       "    </tr>\n",
       "  </tbody>\n",
       "</table>\n",
       "</div>"
      ],
      "text/plain": [
       "          Location                          Time\n",
       "0  Arrived At Work  December 11, 2018 at 09:34AM\n",
       "1        Left Work  December 11, 2018 at 01:18PM\n",
       "2  Arrived At Work  December 11, 2018 at 01:53PM\n",
       "3        Left Work  December 11, 2018 at 06:33PM\n",
       "4     Arrived Home  December 11, 2018 at 07:10PM"
      ]
     },
     "execution_count": 4,
     "metadata": {},
     "output_type": "execute_result"
    }
   ],
   "source": [
    "testDF.drop(testDF.columns[2:],axis=1, inplace=True)\n",
    "testDF.columns = ['Location', 'Time']\n",
    "testDF.head(5)"
   ]
  },
  {
   "cell_type": "code",
   "execution_count": 5,
   "metadata": {},
   "outputs": [
    {
     "name": "stdout",
     "output_type": "stream",
     "text": [
      "December 11, 2018\n",
      "09:34AM\n"
     ]
    }
   ],
   "source": [
    "dateTime = \"December 11, 2018 at 09:34AM\"\n",
    "date_str1, time_str1 = dateTime.split(\" at \") # Split the text date into data and time\n",
    "print(date_str1)\n",
    "print(time_str1)"
   ]
  },
  {
   "cell_type": "code",
   "execution_count": 6,
   "metadata": {},
   "outputs": [
    {
     "name": "stdout",
     "output_type": "stream",
     "text": [
      "2018-12-11 00:00:00\n"
     ]
    }
   ],
   "source": [
    "date_dt1 = datetime.strptime(date_str1, '%B %d, %Y') # Applying strptime to the date portion of date\n",
    "print(date_dt1)"
   ]
  },
  {
   "cell_type": "code",
   "execution_count": 7,
   "metadata": {},
   "outputs": [
    {
     "name": "stdout",
     "output_type": "stream",
     "text": [
      "December 11, 2018, 09:34AM\n",
      "2018-12-11 09:34:00\n"
     ]
    }
   ],
   "source": [
    "dateTime = \"December 11, 2018 at 09:34AM\"\n",
    "dateTime = dateTime.replace(\" at \", \", \") # replacing the at with a comma for processing (not necessary)\n",
    "print(dateTime)\n",
    "datetime_dt1 = datetime.strptime(dateTime, '%B %d, %Y, %I:%M%p') # Applying strptime to the whole dat and time string\n",
    "print(datetime_dt1)"
   ]
  },
  {
   "cell_type": "code",
   "execution_count": 8,
   "metadata": {},
   "outputs": [
    {
     "data": {
      "text/html": [
       "<div>\n",
       "<style scoped>\n",
       "    .dataframe tbody tr th:only-of-type {\n",
       "        vertical-align: middle;\n",
       "    }\n",
       "\n",
       "    .dataframe tbody tr th {\n",
       "        vertical-align: top;\n",
       "    }\n",
       "\n",
       "    .dataframe thead th {\n",
       "        text-align: right;\n",
       "    }\n",
       "</style>\n",
       "<table border=\"1\" class=\"dataframe\">\n",
       "  <thead>\n",
       "    <tr style=\"text-align: right;\">\n",
       "      <th></th>\n",
       "      <th>Location</th>\n",
       "      <th>DateTime</th>\n",
       "    </tr>\n",
       "  </thead>\n",
       "  <tbody>\n",
       "    <tr>\n",
       "      <th>0</th>\n",
       "      <td>Arrived At Work</td>\n",
       "      <td>2018-12-11 09:34:00</td>\n",
       "    </tr>\n",
       "    <tr>\n",
       "      <th>1</th>\n",
       "      <td>Left Work</td>\n",
       "      <td>2018-12-11 13:18:00</td>\n",
       "    </tr>\n",
       "    <tr>\n",
       "      <th>2</th>\n",
       "      <td>Arrived At Work</td>\n",
       "      <td>2018-12-11 13:53:00</td>\n",
       "    </tr>\n",
       "    <tr>\n",
       "      <th>3</th>\n",
       "      <td>Left Work</td>\n",
       "      <td>2018-12-11 18:33:00</td>\n",
       "    </tr>\n",
       "    <tr>\n",
       "      <th>4</th>\n",
       "      <td>Arrived Home</td>\n",
       "      <td>2018-12-11 19:10:00</td>\n",
       "    </tr>\n",
       "  </tbody>\n",
       "</table>\n",
       "</div>"
      ],
      "text/plain": [
       "          Location            DateTime\n",
       "0  Arrived At Work 2018-12-11 09:34:00\n",
       "1        Left Work 2018-12-11 13:18:00\n",
       "2  Arrived At Work 2018-12-11 13:53:00\n",
       "3        Left Work 2018-12-11 18:33:00\n",
       "4     Arrived Home 2018-12-11 19:10:00"
      ]
     },
     "execution_count": 8,
     "metadata": {},
     "output_type": "execute_result"
    }
   ],
   "source": [
    "testDF['DateTime'] = testDF['Time'].apply( lambda x: datetime.strptime(x, '%B %d, %Y at %I:%M%p')) \n",
    "testDF.drop('Time', axis=1, inplace=True)\n",
    "testDF.head(5)"
   ]
  },
  {
   "cell_type": "code",
   "execution_count": 9,
   "metadata": {},
   "outputs": [
    {
     "data": {
      "text/html": [
       "<div>\n",
       "<style scoped>\n",
       "    .dataframe tbody tr th:only-of-type {\n",
       "        vertical-align: middle;\n",
       "    }\n",
       "\n",
       "    .dataframe tbody tr th {\n",
       "        vertical-align: top;\n",
       "    }\n",
       "\n",
       "    .dataframe thead th {\n",
       "        text-align: right;\n",
       "    }\n",
       "</style>\n",
       "<table border=\"1\" class=\"dataframe\">\n",
       "  <thead>\n",
       "    <tr style=\"text-align: right;\">\n",
       "      <th></th>\n",
       "      <th>Location</th>\n",
       "      <th>DateTime</th>\n",
       "      <th>Elapsed</th>\n",
       "      <th>Elapsed Hours</th>\n",
       "      <th>Time</th>\n",
       "      <th>Previous Time</th>\n",
       "    </tr>\n",
       "  </thead>\n",
       "  <tbody>\n",
       "    <tr>\n",
       "      <th>1</th>\n",
       "      <td>Left Work</td>\n",
       "      <td>2018-12-11 13:18:00</td>\n",
       "      <td>03:44:00</td>\n",
       "      <td>3.733333</td>\n",
       "      <td>13:18:00</td>\n",
       "      <td>09:34:00</td>\n",
       "    </tr>\n",
       "    <tr>\n",
       "      <th>2</th>\n",
       "      <td>Arrived At Work</td>\n",
       "      <td>2018-12-11 13:53:00</td>\n",
       "      <td>00:35:00</td>\n",
       "      <td>0.583333</td>\n",
       "      <td>13:53:00</td>\n",
       "      <td>13:18:00</td>\n",
       "    </tr>\n",
       "    <tr>\n",
       "      <th>3</th>\n",
       "      <td>Left Work</td>\n",
       "      <td>2018-12-11 18:33:00</td>\n",
       "      <td>04:40:00</td>\n",
       "      <td>4.666667</td>\n",
       "      <td>18:33:00</td>\n",
       "      <td>13:53:00</td>\n",
       "    </tr>\n",
       "    <tr>\n",
       "      <th>4</th>\n",
       "      <td>Arrived Home</td>\n",
       "      <td>2018-12-11 19:10:00</td>\n",
       "      <td>00:37:00</td>\n",
       "      <td>0.616667</td>\n",
       "      <td>19:10:00</td>\n",
       "      <td>18:33:00</td>\n",
       "    </tr>\n",
       "    <tr>\n",
       "      <th>5</th>\n",
       "      <td>Left Home</td>\n",
       "      <td>2018-12-11 19:47:00</td>\n",
       "      <td>00:37:00</td>\n",
       "      <td>0.616667</td>\n",
       "      <td>19:47:00</td>\n",
       "      <td>19:10:00</td>\n",
       "    </tr>\n",
       "  </tbody>\n",
       "</table>\n",
       "</div>"
      ],
      "text/plain": [
       "          Location            DateTime  Elapsed  Elapsed Hours      Time  \\\n",
       "1        Left Work 2018-12-11 13:18:00 03:44:00       3.733333  13:18:00   \n",
       "2  Arrived At Work 2018-12-11 13:53:00 00:35:00       0.583333  13:53:00   \n",
       "3        Left Work 2018-12-11 18:33:00 04:40:00       4.666667  18:33:00   \n",
       "4     Arrived Home 2018-12-11 19:10:00 00:37:00       0.616667  19:10:00   \n",
       "5        Left Home 2018-12-11 19:47:00 00:37:00       0.616667  19:47:00   \n",
       "\n",
       "  Previous Time  \n",
       "1      09:34:00  \n",
       "2      13:18:00  \n",
       "3      13:53:00  \n",
       "4      18:33:00  \n",
       "5      19:10:00  "
      ]
     },
     "execution_count": 9,
     "metadata": {},
     "output_type": "execute_result"
    }
   ],
   "source": [
    "testDF['Elapsed'] = testDF['DateTime'].diff()\n",
    "testDF['Elapsed Hours'] = testDF['Elapsed'] / np.timedelta64(1, 'h')\n",
    "testDF['Time'] = testDF['DateTime'].apply(lambda x: x.time())\n",
    "\n",
    "testDF['Previous Time'] = testDF['DateTime'] - testDF['Elapsed']\n",
    "testDF = testDF.drop([0])\n",
    "testDF['Previous Time'] = testDF['Previous Time'].apply(lambda x: x.time())\n",
    "\n",
    "    \n",
    "testDF.head(5)"
   ]
  },
  {
   "cell_type": "code",
   "execution_count": 10,
   "metadata": {},
   "outputs": [
    {
     "data": {
      "text/html": [
       "<div>\n",
       "<style scoped>\n",
       "    .dataframe tbody tr th:only-of-type {\n",
       "        vertical-align: middle;\n",
       "    }\n",
       "\n",
       "    .dataframe tbody tr th {\n",
       "        vertical-align: top;\n",
       "    }\n",
       "\n",
       "    .dataframe thead th {\n",
       "        text-align: right;\n",
       "    }\n",
       "</style>\n",
       "<table border=\"1\" class=\"dataframe\">\n",
       "  <thead>\n",
       "    <tr style=\"text-align: right;\">\n",
       "      <th></th>\n",
       "      <th>Location</th>\n",
       "      <th>Elapsed</th>\n",
       "      <th>Elapsed Hours</th>\n",
       "      <th>Time</th>\n",
       "      <th>Previous Time</th>\n",
       "    </tr>\n",
       "    <tr>\n",
       "      <th>DateTime</th>\n",
       "      <th></th>\n",
       "      <th></th>\n",
       "      <th></th>\n",
       "      <th></th>\n",
       "      <th></th>\n",
       "    </tr>\n",
       "  </thead>\n",
       "  <tbody>\n",
       "    <tr>\n",
       "      <th>2018-12-11 13:18:00</th>\n",
       "      <td>Left Work</td>\n",
       "      <td>03:44:00</td>\n",
       "      <td>3.733333</td>\n",
       "      <td>13:18:00</td>\n",
       "      <td>09:34:00</td>\n",
       "    </tr>\n",
       "    <tr>\n",
       "      <th>2018-12-11 13:53:00</th>\n",
       "      <td>Arrived At Work</td>\n",
       "      <td>00:35:00</td>\n",
       "      <td>0.583333</td>\n",
       "      <td>13:53:00</td>\n",
       "      <td>13:18:00</td>\n",
       "    </tr>\n",
       "    <tr>\n",
       "      <th>2018-12-11 18:33:00</th>\n",
       "      <td>Left Work</td>\n",
       "      <td>04:40:00</td>\n",
       "      <td>4.666667</td>\n",
       "      <td>18:33:00</td>\n",
       "      <td>13:53:00</td>\n",
       "    </tr>\n",
       "    <tr>\n",
       "      <th>2018-12-11 19:10:00</th>\n",
       "      <td>Arrived Home</td>\n",
       "      <td>00:37:00</td>\n",
       "      <td>0.616667</td>\n",
       "      <td>19:10:00</td>\n",
       "      <td>18:33:00</td>\n",
       "    </tr>\n",
       "    <tr>\n",
       "      <th>2018-12-11 19:47:00</th>\n",
       "      <td>Left Home</td>\n",
       "      <td>00:37:00</td>\n",
       "      <td>0.616667</td>\n",
       "      <td>19:47:00</td>\n",
       "      <td>19:10:00</td>\n",
       "    </tr>\n",
       "  </tbody>\n",
       "</table>\n",
       "</div>"
      ],
      "text/plain": [
       "                            Location  Elapsed  Elapsed Hours      Time  \\\n",
       "DateTime                                                                 \n",
       "2018-12-11 13:18:00        Left Work 03:44:00       3.733333  13:18:00   \n",
       "2018-12-11 13:53:00  Arrived At Work 00:35:00       0.583333  13:53:00   \n",
       "2018-12-11 18:33:00        Left Work 04:40:00       4.666667  18:33:00   \n",
       "2018-12-11 19:10:00     Arrived Home 00:37:00       0.616667  19:10:00   \n",
       "2018-12-11 19:47:00        Left Home 00:37:00       0.616667  19:47:00   \n",
       "\n",
       "                    Previous Time  \n",
       "DateTime                           \n",
       "2018-12-11 13:18:00      09:34:00  \n",
       "2018-12-11 13:53:00      13:18:00  \n",
       "2018-12-11 18:33:00      13:53:00  \n",
       "2018-12-11 19:10:00      18:33:00  \n",
       "2018-12-11 19:47:00      19:10:00  "
      ]
     },
     "execution_count": 10,
     "metadata": {},
     "output_type": "execute_result"
    }
   ],
   "source": [
    "testDF = testDF.set_index('DateTime')\n",
    "testDF.head(5)"
   ]
  },
  {
   "cell_type": "code",
   "execution_count": 11,
   "metadata": {},
   "outputs": [
    {
     "data": {
      "image/png": "[encoded data removed]",
      "text/plain": [
       "<Figure size 864x576 with 1 Axes>"
      ]
     },
     "metadata": {
      "needs_background": "light"
     },
     "output_type": "display_data"
    }
   ],
   "source": [
    "testDF.plot(figsize=(12,8))\n",
    "plt.show()"
   ]
  },
  {
   "cell_type": "code",
   "execution_count": 12,
   "metadata": {},
   "outputs": [
    {
     "data": {
      "text/html": [
       "<div>\n",
       "<style scoped>\n",
       "    .dataframe tbody tr th:only-of-type {\n",
       "        vertical-align: middle;\n",
       "    }\n",
       "\n",
       "    .dataframe tbody tr th {\n",
       "        vertical-align: top;\n",
       "    }\n",
       "\n",
       "    .dataframe thead th {\n",
       "        text-align: right;\n",
       "    }\n",
       "</style>\n",
       "<table border=\"1\" class=\"dataframe\">\n",
       "  <thead>\n",
       "    <tr style=\"text-align: right;\">\n",
       "      <th></th>\n",
       "      <th>Location</th>\n",
       "      <th>Elapsed</th>\n",
       "      <th>Elapsed Hours</th>\n",
       "      <th>Time</th>\n",
       "      <th>Previous Time</th>\n",
       "    </tr>\n",
       "    <tr>\n",
       "      <th>DateTime</th>\n",
       "      <th></th>\n",
       "      <th></th>\n",
       "      <th></th>\n",
       "      <th></th>\n",
       "      <th></th>\n",
       "    </tr>\n",
       "  </thead>\n",
       "  <tbody>\n",
       "    <tr>\n",
       "      <th>2018-12-11 13:18:00</th>\n",
       "      <td>Left Work</td>\n",
       "      <td>03:44:00</td>\n",
       "      <td>3.733333</td>\n",
       "      <td>13:18:00</td>\n",
       "      <td>09:34:00</td>\n",
       "    </tr>\n",
       "    <tr>\n",
       "      <th>2018-12-11 18:33:00</th>\n",
       "      <td>Left Work</td>\n",
       "      <td>04:40:00</td>\n",
       "      <td>4.666667</td>\n",
       "      <td>18:33:00</td>\n",
       "      <td>13:53:00</td>\n",
       "    </tr>\n",
       "    <tr>\n",
       "      <th>2018-12-12 13:21:00</th>\n",
       "      <td>Left Work</td>\n",
       "      <td>04:53:00</td>\n",
       "      <td>4.883333</td>\n",
       "      <td>13:21:00</td>\n",
       "      <td>08:28:00</td>\n",
       "    </tr>\n",
       "    <tr>\n",
       "      <th>2018-12-12 17:10:00</th>\n",
       "      <td>Left Work</td>\n",
       "      <td>03:42:00</td>\n",
       "      <td>3.700000</td>\n",
       "      <td>17:10:00</td>\n",
       "      <td>13:28:00</td>\n",
       "    </tr>\n",
       "    <tr>\n",
       "      <th>2018-12-13 17:29:00</th>\n",
       "      <td>Left Work</td>\n",
       "      <td>07:48:00</td>\n",
       "      <td>7.800000</td>\n",
       "      <td>17:29:00</td>\n",
       "      <td>09:41:00</td>\n",
       "    </tr>\n",
       "    <tr>\n",
       "      <th>2018-12-14 13:03:00</th>\n",
       "      <td>Left Work</td>\n",
       "      <td>03:34:00</td>\n",
       "      <td>3.566667</td>\n",
       "      <td>13:03:00</td>\n",
       "      <td>09:29:00</td>\n",
       "    </tr>\n",
       "    <tr>\n",
       "      <th>2018-12-14 18:03:00</th>\n",
       "      <td>Left Work</td>\n",
       "      <td>04:34:00</td>\n",
       "      <td>4.566667</td>\n",
       "      <td>18:03:00</td>\n",
       "      <td>13:29:00</td>\n",
       "    </tr>\n",
       "    <tr>\n",
       "      <th>2018-12-17 17:12:00</th>\n",
       "      <td>Left Work</td>\n",
       "      <td>08:32:00</td>\n",
       "      <td>8.533333</td>\n",
       "      <td>17:12:00</td>\n",
       "      <td>08:40:00</td>\n",
       "    </tr>\n",
       "    <tr>\n",
       "      <th>2018-12-18 13:31:00</th>\n",
       "      <td>Left Work</td>\n",
       "      <td>03:54:00</td>\n",
       "      <td>3.900000</td>\n",
       "      <td>13:31:00</td>\n",
       "      <td>09:37:00</td>\n",
       "    </tr>\n",
       "    <tr>\n",
       "      <th>2018-12-18 18:18:00</th>\n",
       "      <td>Left Work</td>\n",
       "      <td>04:43:00</td>\n",
       "      <td>4.716667</td>\n",
       "      <td>18:18:00</td>\n",
       "      <td>13:35:00</td>\n",
       "    </tr>\n",
       "  </tbody>\n",
       "</table>\n",
       "</div>"
      ],
      "text/plain": [
       "                      Location  Elapsed  Elapsed Hours      Time Previous Time\n",
       "DateTime                                                                      \n",
       "2018-12-11 13:18:00  Left Work 03:44:00       3.733333  13:18:00      09:34:00\n",
       "2018-12-11 18:33:00  Left Work 04:40:00       4.666667  18:33:00      13:53:00\n",
       "2018-12-12 13:21:00  Left Work 04:53:00       4.883333  13:21:00      08:28:00\n",
       "2018-12-12 17:10:00  Left Work 03:42:00       3.700000  17:10:00      13:28:00\n",
       "2018-12-13 17:29:00  Left Work 07:48:00       7.800000  17:29:00      09:41:00\n",
       "2018-12-14 13:03:00  Left Work 03:34:00       3.566667  13:03:00      09:29:00\n",
       "2018-12-14 18:03:00  Left Work 04:34:00       4.566667  18:03:00      13:29:00\n",
       "2018-12-17 17:12:00  Left Work 08:32:00       8.533333  17:12:00      08:40:00\n",
       "2018-12-18 13:31:00  Left Work 03:54:00       3.900000  13:31:00      09:37:00\n",
       "2018-12-18 18:18:00  Left Work 04:43:00       4.716667  18:18:00      13:35:00"
      ]
     },
     "execution_count": 12,
     "metadata": {},
     "output_type": "execute_result"
    }
   ],
   "source": [
    "workHours = testDF[testDF['Location'] == 'Left Work']\n",
    "workHours.head(10)"
   ]
  },
  {
   "cell_type": "code",
   "execution_count": 13,
   "metadata": {},
   "outputs": [],
   "source": [
    "#workHours['Elapsed Hours'].plot(figsize=(12,8), kind='bar')\n",
    "plt.show()"
   ]
  },
  {
   "cell_type": "code",
   "execution_count": 14,
   "metadata": {},
   "outputs": [
    {
     "data": {
      "text/plain": [
       "<matplotlib.axes._subplots.AxesSubplot at 0x1c099dbdf28>"
      ]
     },
     "execution_count": 14,
     "metadata": {},
     "output_type": "execute_result"
    },
    {
     "data": {
      "image/png": "[encoded data removed]",
      "text/plain": [
       "<Figure size 864x576 with 1 Axes>"
      ]
     },
     "metadata": {
      "needs_background": "light"
     },
     "output_type": "display_data"
    }
   ],
   "source": [
    "dailyWork = workHours.resample('D').sum()\n",
    "dailyWork['Elapsed Hours'].plot(figsize=(12,8), kind='bar')"
   ]
  },
  {
   "cell_type": "code",
   "execution_count": 15,
   "metadata": {},
   "outputs": [
    {
     "data": {
      "text/html": [
       "<div>\n",
       "<style scoped>\n",
       "    .dataframe tbody tr th:only-of-type {\n",
       "        vertical-align: middle;\n",
       "    }\n",
       "\n",
       "    .dataframe tbody tr th {\n",
       "        vertical-align: top;\n",
       "    }\n",
       "\n",
       "    .dataframe thead th {\n",
       "        text-align: right;\n",
       "    }\n",
       "</style>\n",
       "<table border=\"1\" class=\"dataframe\">\n",
       "  <thead>\n",
       "    <tr style=\"text-align: right;\">\n",
       "      <th></th>\n",
       "      <th>Location</th>\n",
       "      <th>Elapsed</th>\n",
       "      <th>Elapsed Hours</th>\n",
       "      <th>Time</th>\n",
       "      <th>Previous Time</th>\n",
       "    </tr>\n",
       "    <tr>\n",
       "      <th>DateTime</th>\n",
       "      <th></th>\n",
       "      <th></th>\n",
       "      <th></th>\n",
       "      <th></th>\n",
       "      <th></th>\n",
       "    </tr>\n",
       "  </thead>\n",
       "  <tbody>\n",
       "    <tr>\n",
       "      <th>2018-12-12 08:28:00</th>\n",
       "      <td>Arrived At Work</td>\n",
       "      <td>00:32:00</td>\n",
       "      <td>0.533333</td>\n",
       "      <td>08:28:00</td>\n",
       "      <td>07:56:00</td>\n",
       "    </tr>\n",
       "    <tr>\n",
       "      <th>2018-12-13 09:41:00</th>\n",
       "      <td>Arrived At Work</td>\n",
       "      <td>00:53:00</td>\n",
       "      <td>0.883333</td>\n",
       "      <td>09:41:00</td>\n",
       "      <td>08:48:00</td>\n",
       "    </tr>\n",
       "    <tr>\n",
       "      <th>2018-12-14 09:29:00</th>\n",
       "      <td>Arrived At Work</td>\n",
       "      <td>00:46:00</td>\n",
       "      <td>0.766667</td>\n",
       "      <td>09:29:00</td>\n",
       "      <td>08:43:00</td>\n",
       "    </tr>\n",
       "    <tr>\n",
       "      <th>2018-12-17 08:40:00</th>\n",
       "      <td>Arrived At Work</td>\n",
       "      <td>00:38:00</td>\n",
       "      <td>0.633333</td>\n",
       "      <td>08:40:00</td>\n",
       "      <td>08:02:00</td>\n",
       "    </tr>\n",
       "    <tr>\n",
       "      <th>2018-12-18 09:37:00</th>\n",
       "      <td>Arrived At Work</td>\n",
       "      <td>00:44:00</td>\n",
       "      <td>0.733333</td>\n",
       "      <td>09:37:00</td>\n",
       "      <td>08:53:00</td>\n",
       "    </tr>\n",
       "  </tbody>\n",
       "</table>\n",
       "</div>"
      ],
      "text/plain": [
       "                            Location  Elapsed  Elapsed Hours      Time  \\\n",
       "DateTime                                                                 \n",
       "2018-12-12 08:28:00  Arrived At Work 00:32:00       0.533333  08:28:00   \n",
       "2018-12-13 09:41:00  Arrived At Work 00:53:00       0.883333  09:41:00   \n",
       "2018-12-14 09:29:00  Arrived At Work 00:46:00       0.766667  09:29:00   \n",
       "2018-12-17 08:40:00  Arrived At Work 00:38:00       0.633333  08:40:00   \n",
       "2018-12-18 09:37:00  Arrived At Work 00:44:00       0.733333  09:37:00   \n",
       "\n",
       "                    Previous Time  \n",
       "DateTime                           \n",
       "2018-12-12 08:28:00      07:56:00  \n",
       "2018-12-13 09:41:00      08:48:00  \n",
       "2018-12-14 09:29:00      08:43:00  \n",
       "2018-12-17 08:40:00      08:02:00  \n",
       "2018-12-18 09:37:00      08:53:00  "
      ]
     },
     "execution_count": 15,
     "metadata": {},
     "output_type": "execute_result"
    }
   ],
   "source": [
    "arriveTime = workHours = testDF[testDF['Location'] == 'Arrived At Work']\n",
    "arriveTime = arriveTime[arriveTime['Elapsed Hours'] < 5]\n",
    "arriveTime = arriveTime.between_time('08:00', '11:00')\n",
    "arriveTime.head()"
   ]
  },
  {
   "cell_type": "code",
   "execution_count": 16,
   "metadata": {},
   "outputs": [
    {
     "data": {
      "text/plain": [
       "<matplotlib.axes._subplots.AxesSubplot at 0x1c09a3485c0>"
      ]
     },
     "execution_count": 16,
     "metadata": {},
     "output_type": "execute_result"
    },
    {
     "data": {
      "image/png": "[encoded data removed]",
      "text/plain": [
       "<Figure size 864x576 with 1 Axes>"
      ]
     },
     "metadata": {
      "needs_background": "light"
     },
     "output_type": "display_data"
    }
   ],
   "source": [
    "from matplotlib.dates import DateFormatter\n",
    "from matplotlib.dates import HourLocator\n",
    "\n",
    "arriveTime.plot(x='Time', y='Elapsed Hours', lw=0, marker='o', figsize=(12,8))"
   ]
  },
  {
   "cell_type": "code",
   "execution_count": null,
   "metadata": {},
   "outputs": [],
   "source": []
  }
 ],
 "metadata": {
  "kernelspec": {
   "display_name": "Python 3",
   "language": "python",
   "name": "python3"
  },
  "language_info": {
   "codemirror_mode": {
    "name": "ipython",
    "version": 3
   },
   "file_extension": ".py",
   "mimetype": "text/x-python",
   "name": "python",
   "nbconvert_exporter": "python",
   "pygments_lexer": "ipython3",
   "version": "3.7.3"
  }
 },
 "nbformat": 4,
 "nbformat_minor": 2
}
